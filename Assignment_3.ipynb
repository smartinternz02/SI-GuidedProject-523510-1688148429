{
  "nbformat": 4,
  "nbformat_minor": 0,
  "metadata": {
    "colab": {
      "provenance": []
    },
    "kernelspec": {
      "name": "python3",
      "display_name": "Python 3"
    },
    "language_info": {
      "name": "python"
    }
  },
  "cells": [
    {
      "cell_type": "markdown",
      "source": [
        "# **Deploying The Dataset directly from kaggle**"
      ],
      "metadata": {
        "id": "guuyCDIVK43Y"
      }
    },
    {
      "cell_type": "code",
      "execution_count": null,
      "metadata": {
        "colab": {
          "base_uri": "https://localhost:8080/"
        },
        "id": "BuOCAOuuJtM9",
        "outputId": "cf5c29c9-7042-4aa3-ee2e-30f70c0c4507"
      },
      "outputs": [
        {
          "output_type": "stream",
          "name": "stdout",
          "text": [
            "Looking in indexes: https://pypi.org/simple, https://us-python.pkg.dev/colab-wheels/public/simple/\n",
            "Requirement already satisfied: kaggle in /usr/local/lib/python3.10/dist-packages (1.5.13)\n",
            "Requirement already satisfied: six>=1.10 in /usr/local/lib/python3.10/dist-packages (from kaggle) (1.16.0)\n",
            "Requirement already satisfied: certifi in /usr/local/lib/python3.10/dist-packages (from kaggle) (2022.12.7)\n",
            "Requirement already satisfied: python-dateutil in /usr/local/lib/python3.10/dist-packages (from kaggle) (2.8.2)\n",
            "Requirement already satisfied: requests in /usr/local/lib/python3.10/dist-packages (from kaggle) (2.27.1)\n",
            "Requirement already satisfied: tqdm in /usr/local/lib/python3.10/dist-packages (from kaggle) (4.65.0)\n",
            "Requirement already satisfied: python-slugify in /usr/local/lib/python3.10/dist-packages (from kaggle) (8.0.1)\n",
            "Requirement already satisfied: urllib3 in /usr/local/lib/python3.10/dist-packages (from kaggle) (1.26.15)\n",
            "Requirement already satisfied: text-unidecode>=1.3 in /usr/local/lib/python3.10/dist-packages (from python-slugify->kaggle) (1.3)\n",
            "Requirement already satisfied: charset-normalizer~=2.0.0 in /usr/local/lib/python3.10/dist-packages (from requests->kaggle) (2.0.12)\n",
            "Requirement already satisfied: idna<4,>=2.5 in /usr/local/lib/python3.10/dist-packages (from requests->kaggle) (3.4)\n"
          ]
        }
      ],
      "source": [
        "!pip install kaggle"
      ]
    },
    {
      "cell_type": "code",
      "source": [
        "from google.colab import drive\n",
        "drive.mount('/content/drive')"
      ],
      "metadata": {
        "colab": {
          "base_uri": "https://localhost:8080/"
        },
        "id": "T1aE3S0ZKhZh",
        "outputId": "d2372d84-9110-42b1-f25f-03e626f8c73b"
      },
      "execution_count": null,
      "outputs": [
        {
          "output_type": "stream",
          "name": "stdout",
          "text": [
            "Drive already mounted at /content/drive; to attempt to forcibly remount, call drive.mount(\"/content/drive\", force_remount=True).\n"
          ]
        }
      ]
    },
    {
      "cell_type": "code",
      "source": [
        "import os\n",
        "os.environ['KAGGLE_CONFIG_DIR'] = '/content/drive/MyDrive/Kaggle_dataset'"
      ],
      "metadata": {
        "id": "JF5te1FtK4RM"
      },
      "execution_count": null,
      "outputs": []
    },
    {
      "cell_type": "code",
      "source": [
        "!kaggle datasets download -d akash2907/bird-species-classification"
      ],
      "metadata": {
        "colab": {
          "base_uri": "https://localhost:8080/"
        },
        "id": "48aLxtDeLeRi",
        "outputId": "6376e9f9-2a2a-4d4b-acf9-40c923ad4b96"
      },
      "execution_count": null,
      "outputs": [
        {
          "output_type": "stream",
          "name": "stdout",
          "text": [
            "Downloading bird-species-classification.zip to /content\n",
            "100% 1.37G/1.37G [00:52<00:00, 22.4MB/s]\n",
            "100% 1.37G/1.37G [00:52<00:00, 28.0MB/s]\n"
          ]
        }
      ]
    },
    {
      "cell_type": "code",
      "source": [
        "!unzip '/content/drive/MyDrive/Kaggle_dataset/bird-species-classification.zip'"
      ],
      "metadata": {
        "colab": {
          "base_uri": "https://localhost:8080/"
        },
        "id": "JDTFDAd1MlIo",
        "outputId": "87f10062-ec38-41bf-f5bc-b75cd779a1ca"
      },
      "execution_count": null,
      "outputs": [
        {
          "output_type": "stream",
          "name": "stdout",
          "text": [
            "Archive:  /content/drive/MyDrive/Kaggle_dataset/bird-species-classification.zip\n",
            "  inflating: test_data/test_data/blasti/DSC_6396.jpg  \n",
            "  inflating: test_data/test_data/blasti/DSC_6397.jpg  \n",
            "  inflating: test_data/test_data/blasti/DSC_6398.jpg  \n",
            "  inflating: test_data/test_data/blasti/DSC_6399.jpg  \n",
            "  inflating: test_data/test_data/blasti/DSC_6400.jpg  \n",
            "  inflating: test_data/test_data/blasti/DSC_6401.jpg  \n",
            "  inflating: test_data/test_data/blasti/DSC_6402.jpg  \n",
            "  inflating: test_data/test_data/blasti/DSC_6403.jpg  \n",
            "  inflating: test_data/test_data/blasti/DSC_6405.jpg  \n",
            "  inflating: test_data/test_data/blasti/DSC_6406.jpg  \n",
            "  inflating: test_data/test_data/blasti/DSC_6407.jpg  \n",
            "  inflating: test_data/test_data/blasti/DSC_6408.jpg  \n",
            "  inflating: test_data/test_data/blasti/DSC_6409.jpg  \n",
            "  inflating: test_data/test_data/blasti/DSC_6410.jpg  \n",
            "  inflating: test_data/test_data/blasti/DSC_6411.jpg  \n",
            "  inflating: test_data/test_data/bonegl/DSC_4587.jpg  \n",
            "  inflating: test_data/test_data/bonegl/DSC_4588.jpg  \n",
            "  inflating: test_data/test_data/bonegl/DSC_4589.jpg  \n",
            "  inflating: test_data/test_data/bonegl/DSC_4590.jpg  \n",
            "  inflating: test_data/test_data/bonegl/DSC_4591.jpg  \n",
            "  inflating: test_data/test_data/bonegl/DSC_4592.jpg  \n",
            "  inflating: test_data/test_data/bonegl/DSC_4593.jpg  \n",
            "  inflating: test_data/test_data/brhkyt/D72_0473.jpg  \n",
            "  inflating: test_data/test_data/brhkyt/D72_0474.jpg  \n",
            "  inflating: test_data/test_data/brhkyt/D72_0475.jpg  \n",
            "  inflating: test_data/test_data/brhkyt/D72_0477.jpg  \n",
            "  inflating: test_data/test_data/brhkyt/D72_0478.jpg  \n",
            "  inflating: test_data/test_data/brhkyt/D72_0479.jpg  \n",
            "  inflating: test_data/test_data/cbrtsh/_D32_10310.jpg  \n",
            "  inflating: test_data/test_data/cbrtsh/_D32_10311.jpg  \n",
            "  inflating: test_data/test_data/cbrtsh/_D32_10312.jpg  \n",
            "  inflating: test_data/test_data/cbrtsh/_D32_10313.jpg  \n",
            "  inflating: test_data/test_data/cbrtsh/_D32_10314.jpg  \n",
            "  inflating: test_data/test_data/cbrtsh/_D32_10317.jpg  \n",
            "  inflating: test_data/test_data/cbrtsh/_D32_10318.jpg  \n",
            "  inflating: test_data/test_data/cmnmyn/DSC_2443.jpg  \n",
            "  inflating: test_data/test_data/cmnmyn/DSC_4681.jpg  \n",
            "  inflating: test_data/test_data/cmnmyn/DSC_5137.jpg  \n",
            "  inflating: test_data/test_data/cmnmyn/DSC_7625.jpg  \n",
            "  inflating: test_data/test_data/cmnmyn/P1050277.jpg  \n",
            "  inflating: test_data/test_data/cmnmyn/_D32_12426.jpg  \n",
            "  inflating: test_data/test_data/cmnmyn/_D32_12427.jpg  \n",
            "  inflating: test_data/test_data/cmnmyn/_D32_12428.jpg  \n",
            "  inflating: test_data/test_data/gretit/11620454726_31a35c26da_o.jpg  \n",
            "  inflating: test_data/test_data/gretit/11776135285_ccf938fa2e_o.jpg  \n",
            "  inflating: test_data/test_data/gretit/11905645146_6a5d4ff9f9_o.jpg  \n",
            "  inflating: test_data/test_data/gretit/8537646712_0b282c4c6a_o.jpg  \n",
            "  inflating: test_data/test_data/gretit/D72_0693.jpg  \n",
            "  inflating: test_data/test_data/gretit/D72_0694.jpg  \n",
            "  inflating: test_data/test_data/gretit/D72_0695.jpg  \n",
            "  inflating: test_data/test_data/hilpig/DSC_6359.jpg  \n",
            "  inflating: test_data/test_data/hilpig/DSC_6362.jpg  \n",
            "  inflating: test_data/test_data/hilpig/DSC_6364.jpg  \n",
            "  inflating: test_data/test_data/hilpig/DSC_6368.jpg  \n",
            "  inflating: test_data/test_data/hilpig/DSC_6403.jpg  \n",
            "  inflating: test_data/test_data/hilpig/DSC_6404.jpg  \n",
            "  inflating: test_data/test_data/hilpig/P1000319.jpg  \n",
            "  inflating: test_data/test_data/hilpig/P1000323.jpg  \n",
            "  inflating: test_data/test_data/hilpig/P1050044.jpg  \n",
            "  inflating: test_data/test_data/hilpig/P1050045.jpg  \n",
            "  inflating: test_data/test_data/himbul/11602064885_3826df4500_o.jpg  \n",
            "  inflating: test_data/test_data/himbul/11619942574_42f23a7b05_o.jpg  \n",
            "  inflating: test_data/test_data/himbul/11620097904_33fa8ee878_o.jpg  \n",
            "  inflating: test_data/test_data/himbul/5857371972_ed4f88b275_o.jpg  \n",
            "  inflating: test_data/test_data/himbul/6154954471_eefe6e00d1_o.jpg  \n",
            "  inflating: test_data/test_data/himbul/D72_0688.jpg  \n",
            "  inflating: test_data/test_data/himbul/D72_0691.jpg  \n",
            "  inflating: test_data/test_data/himbul/DSC08357.jpg  \n",
            "  inflating: test_data/test_data/himbul/DSC_3230.jpg  \n",
            "  inflating: test_data/test_data/himbul/DSC_7439.jpg  \n",
            "  inflating: test_data/test_data/himbul/DSC_7602.jpg  \n",
            "  inflating: test_data/test_data/himbul/P1060368.jpg  \n",
            "  inflating: test_data/test_data/himbul/P1060369.jpg  \n",
            "  inflating: test_data/test_data/himbul/_D32_10242.jpg  \n",
            "  inflating: test_data/test_data/himbul/_D32_10245.jpg  \n",
            "  inflating: test_data/test_data/himbul/_D32_10251.jpg  \n",
            "  inflating: test_data/test_data/himbul/_D32_10319.jpg  \n",
            "  inflating: test_data/test_data/himbul/_D32_10320.jpg  \n",
            "  inflating: test_data/test_data/himbul/_DSC9446.jpg  \n",
            "  inflating: test_data/test_data/himgri/IMG_5384.JPG  \n",
            "  inflating: test_data/test_data/himgri/IMG_5385.JPG  \n",
            "  inflating: test_data/test_data/himgri/IMG_5386.JPG  \n",
            "  inflating: test_data/test_data/himgri/IMG_5387.JPG  \n",
            "  inflating: test_data/test_data/himgri/IMG_5459.JPG  \n",
            "  inflating: test_data/test_data/himgri/IMG_5460.JPG  \n",
            "  inflating: test_data/test_data/himgri/IMG_5487.JPG  \n",
            "  inflating: test_data/test_data/himgri/IMG_5488.JPG  \n",
            "  inflating: test_data/test_data/himgri/IMG_5489.JPG  \n",
            "  inflating: test_data/test_data/himgri/IMG_5490.JPG  \n",
            "  inflating: test_data/test_data/himgri/IMG_5491.JPG  \n",
            "  inflating: test_data/test_data/himgri/IMG_5492.JPG  \n",
            "  inflating: test_data/test_data/himgri/P1020742.jpg  \n",
            "  inflating: test_data/test_data/himgri/P1020743.jpg  \n",
            "  inflating: test_data/test_data/himgri/P1020746.jpg  \n",
            "  inflating: test_data/test_data/himgri/P1020748.jpg  \n",
            "  inflating: test_data/test_data/himgri/P1030055.jpg  \n",
            "  inflating: test_data/test_data/himgri/P1060776.jpg  \n",
            "  inflating: test_data/test_data/himgri/P1060777.jpg  \n",
            "  inflating: test_data/test_data/himgri/P1060778.jpg  \n",
            "  inflating: test_data/test_data/hsparo/100_5573.JPG  \n",
            "  inflating: test_data/test_data/hsparo/100_5585.JPG  \n",
            "  inflating: test_data/test_data/hsparo/100_5586.JPG  \n",
            "  inflating: test_data/test_data/hsparo/100_5742.JPG  \n",
            "  inflating: test_data/test_data/hsparo/12265273154_48e0fefd42_o.jpg  \n",
            "  inflating: test_data/test_data/hsparo/DSC_4521.jpg  \n",
            "  inflating: test_data/test_data/hsparo/DSC_7619.jpg  \n",
            "  inflating: test_data/test_data/hsparo/_DSC_11244.jpg  \n",
            "  inflating: test_data/test_data/hsparo/_DSC_11246.jpg  \n",
            "  inflating: test_data/test_data/indvul/DSC_1263.jpg  \n",
            "  inflating: test_data/test_data/indvul/DSC_1273.jpg  \n",
            "  inflating: test_data/test_data/indvul/DSC_1274.jpg  \n",
            "  inflating: test_data/test_data/indvul/DSC_1275.jpg  \n",
            "  inflating: test_data/test_data/indvul/DSC_1277.jpg  \n",
            "  inflating: test_data/test_data/indvul/_DSC8754.jpg  \n",
            "  inflating: test_data/test_data/indvul/_DSC9520.jpg  \n",
            "  inflating: test_data/test_data/indvul/_DSC9521.jpg  \n",
            "  inflating: test_data/test_data/indvul/_DSC9523.jpg  \n",
            "  inflating: test_data/test_data/jglowl/_D32_10584.jpg  \n",
            "  inflating: test_data/test_data/jglowl/_D32_10587.jpg  \n",
            "  inflating: test_data/test_data/jglowl/_D32_10593.jpg  \n",
            "  inflating: test_data/test_data/jglowl/_D32_13515.jpg  \n",
            "  inflating: test_data/test_data/jglowl/_D32_13516.jpg  \n",
            "  inflating: test_data/test_data/jglowl/_D32_13517.jpg  \n",
            "  inflating: test_data/test_data/lbicrw/100_4917.JPG  \n",
            "  inflating: test_data/test_data/lbicrw/IMG_5538.JPG  \n",
            "  inflating: test_data/test_data/lbicrw/IMG_5541.JPG  \n",
            "  inflating: test_data/test_data/lbicrw/IMG_5543.JPG  \n",
            "  inflating: test_data/test_data/lbicrw/IMG_5544.JPG  \n",
            "  inflating: test_data/test_data/lbicrw/P1030030.jpg  \n",
            "  inflating: test_data/test_data/mgprob/100_5811.JPG  \n",
            "  inflating: test_data/test_data/mgprob/100_5812.JPG  \n",
            "  inflating: test_data/test_data/mgprob/100_5813.JPG  \n",
            "  inflating: test_data/test_data/mgprob/DSC_3233.jpg  \n",
            "  inflating: test_data/test_data/mgprob/_DSC0085.jpg  \n",
            "  inflating: test_data/test_data/mgprob/_DSC0133.jpg  \n",
            "  inflating: test_data/test_data/mgprob/_DSC0135.jpg  \n",
            "  inflating: test_data/test_data/rebimg/100_5756.JPG  \n",
            "  inflating: test_data/test_data/rebimg/100_5757.JPG  \n",
            "  inflating: test_data/test_data/rebimg/100_5758.JPG  \n",
            "  inflating: test_data/test_data/rebimg/100_5759.JPG  \n",
            "  inflating: test_data/test_data/rebimg/100_5760.JPG  \n",
            "  inflating: test_data/test_data/rebimg/13009302395_5d88a9d62b_o.jpg  \n",
            "  inflating: test_data/test_data/rebimg/13009315305_f1cbfb6767_o.jpg  \n",
            "  inflating: test_data/test_data/rebimg/13009451823_8eb502581f_o.jpg  \n",
            "  inflating: test_data/test_data/rebimg/DSC_7148.jpg  \n",
            "  inflating: test_data/test_data/rebimg/IMG_5251.JPG  \n",
            "  inflating: test_data/test_data/rebimg/IMG_5252.JPG  \n",
            "  inflating: test_data/test_data/wcrsrt/100_4462.JPG  \n",
            "  inflating: test_data/test_data/wcrsrt/100_4463.JPG  \n",
            "  inflating: test_data/test_data/wcrsrt/100_4464.JPG  \n",
            "  inflating: test_data/test_data/wcrsrt/100_4466.JPG  \n",
            "  inflating: test_data/test_data/wcrsrt/100_4467.JPG  \n",
            "  inflating: test_data/test_data/wcrsrt/100_4468.JPG  \n",
            "  inflating: test_data/test_data/wcrsrt/100_5103.JPG  \n",
            "  inflating: test_data/test_data/wcrsrt/100_5105.JPG  \n",
            "  inflating: test_data/test_data/wcrsrt/11382677585_ef6570a041_o.jpg  \n",
            "  inflating: test_data/test_data/wcrsrt/11382746854_7ce73793b3_o.jpg  \n",
            "  inflating: train_data/train_data/blasti/DSC_6382.jpg  \n",
            "  inflating: train_data/train_data/blasti/DSC_6383.jpg  \n",
            "  inflating: train_data/train_data/blasti/DSC_6384-2.jpg  \n",
            "  inflating: train_data/train_data/blasti/DSC_6384.jpg  \n",
            "  inflating: train_data/train_data/blasti/DSC_6385.jpg  \n",
            "  inflating: train_data/train_data/blasti/DSC_6386.jpg  \n",
            "  inflating: train_data/train_data/blasti/DSC_6387.jpg  \n",
            "  inflating: train_data/train_data/blasti/DSC_6388.jpg  \n",
            "  inflating: train_data/train_data/blasti/DSC_6389.jpg  \n",
            "  inflating: train_data/train_data/blasti/DSC_6390.jpg  \n",
            "  inflating: train_data/train_data/blasti/DSC_6391.jpg  \n",
            "  inflating: train_data/train_data/blasti/DSC_6392.jpg  \n",
            "  inflating: train_data/train_data/blasti/DSC_6393.jpg  \n",
            "  inflating: train_data/train_data/blasti/DSC_6394.jpg  \n",
            "  inflating: train_data/train_data/blasti/DSC_6395.jpg  \n",
            "  inflating: train_data/train_data/bonegl/DSC_4570.jpg  \n",
            "  inflating: train_data/train_data/bonegl/DSC_4571.jpg  \n",
            "  inflating: train_data/train_data/bonegl/DSC_4583.jpg  \n",
            "  inflating: train_data/train_data/bonegl/DSC_4584.jpg  \n",
            "  inflating: train_data/train_data/bonegl/DSC_4585.jpg  \n",
            "  inflating: train_data/train_data/bonegl/DSC_4586.jpg  \n",
            "  inflating: train_data/train_data/brhkyt/D72_0400.jpg  \n",
            "  inflating: train_data/train_data/brhkyt/D72_0401.jpg  \n",
            "  inflating: train_data/train_data/brhkyt/D72_0470.jpg  \n",
            "  inflating: train_data/train_data/brhkyt/D72_0471.jpg  \n",
            "  inflating: train_data/train_data/brhkyt/D72_0472.jpg  \n",
            "  inflating: train_data/train_data/cbrtsh/100_5097.JPG  \n",
            "  inflating: train_data/train_data/cbrtsh/_D32_10303.jpg  \n",
            "  inflating: train_data/train_data/cbrtsh/_D32_10305.jpg  \n",
            "  inflating: train_data/train_data/cbrtsh/_D32_10306.jpg  \n",
            "  inflating: train_data/train_data/cbrtsh/_D32_10307.jpg  \n",
            "  inflating: train_data/train_data/cbrtsh/_D32_10308.jpg  \n",
            "  inflating: train_data/train_data/cbrtsh/_D32_10309.jpg  \n",
            "  inflating: train_data/train_data/cmnmyn/100_5763.JPG  \n",
            "  inflating: train_data/train_data/cmnmyn/5866682091_870ccc946c_o.jpg  \n",
            "  inflating: train_data/train_data/cmnmyn/6154956165_64266b8b53_o.jpg  \n",
            "  inflating: train_data/train_data/cmnmyn/DSCN5784.jpg  \n",
            "  inflating: train_data/train_data/cmnmyn/DSCN5787.jpg  \n",
            "  inflating: train_data/train_data/cmnmyn/DSCN5790.jpg  \n",
            "  inflating: train_data/train_data/cmnmyn/DSCN5791.jpg  \n",
            "  inflating: train_data/train_data/gretit/100_5042.JPG  \n",
            "  inflating: train_data/train_data/gretit/100_5043.JPG  \n",
            "  inflating: train_data/train_data/gretit/100_5044.JPG  \n",
            "  inflating: train_data/train_data/gretit/100_5045.JPG  \n",
            "  inflating: train_data/train_data/gretit/100_5046.JPG  \n",
            "  inflating: train_data/train_data/gretit/100_5047.JPG  \n",
            "  inflating: train_data/train_data/hilpig/DSC_6272.jpg  \n",
            "  inflating: train_data/train_data/hilpig/DSC_6273.jpg  \n",
            "  inflating: train_data/train_data/hilpig/DSC_6274.jpg  \n",
            "  inflating: train_data/train_data/hilpig/DSC_6275.jpg  \n",
            "  inflating: train_data/train_data/hilpig/DSC_6350.jpg  \n",
            "  inflating: train_data/train_data/hilpig/DSC_6351.jpg  \n",
            "  inflating: train_data/train_data/hilpig/DSC_6352.jpg  \n",
            "  inflating: train_data/train_data/hilpig/DSC_6353.jpg  \n",
            "  inflating: train_data/train_data/hilpig/DSC_6354.jpg  \n",
            "  inflating: train_data/train_data/hilpig/DSC_6358.jpg  \n",
            "  inflating: train_data/train_data/himbul/100_5028.JPG  \n",
            "  inflating: train_data/train_data/himbul/100_5029.JPG  \n",
            "  inflating: train_data/train_data/himbul/100_5096.JPG  \n",
            "  inflating: train_data/train_data/himbul/100_5099.JPG  \n",
            "  inflating: train_data/train_data/himbul/100_5100.JPG  \n",
            "  inflating: train_data/train_data/himbul/100_5102.JPG  \n",
            "  inflating: train_data/train_data/himbul/100_5110.JPG  \n",
            "  inflating: train_data/train_data/himbul/100_5112.JPG  \n",
            "  inflating: train_data/train_data/himbul/100_5113.JPG  \n",
            "  inflating: train_data/train_data/himbul/100_5159.JPG  \n",
            "  inflating: train_data/train_data/himbul/100_5160.JPG  \n",
            "  inflating: train_data/train_data/himbul/100_5161.JPG  \n",
            "  inflating: train_data/train_data/himbul/100_5162.JPG  \n",
            "  inflating: train_data/train_data/himbul/10774570945_9bc537c255_o.jpg  \n",
            "  inflating: train_data/train_data/himbul/11383838134_96e891a316_o.jpg  \n",
            "  inflating: train_data/train_data/himbul/11383857084_cdd7514746_o.jpg  \n",
            "  inflating: train_data/train_data/himbul/11387473723_464965720a_o.jpg  \n",
            "  inflating: train_data/train_data/himbul/9007817678_24db19fc63_o.jpg  \n",
            "  inflating: train_data/train_data/himgri/12029790563_2fe54a68aa_o.jpg  \n",
            "  inflating: train_data/train_data/himgri/12029822653_1185544e7b_o.jpg  \n",
            "  inflating: train_data/train_data/himgri/12029933015_802428e277_o.jpg  \n",
            "  inflating: train_data/train_data/himgri/12029987304_031b7a2d53_o.jpg  \n",
            "  inflating: train_data/train_data/himgri/12030165813_f5341e8ed0_o.jpg  \n",
            "  inflating: train_data/train_data/himgri/12030221124_1baaf905d1_o.jpg  \n",
            "  inflating: train_data/train_data/himgri/12030269234_1c3f5a8e8c_o.jpg  \n",
            "  inflating: train_data/train_data/himgri/12152037683_13e1556c41_o.jpg  \n",
            "  inflating: train_data/train_data/himgri/12152178844_dc29e3126f_o.jpg  \n",
            "  inflating: train_data/train_data/himgri/12152510436_23b62fed3b_o.jpg  \n",
            "  inflating: train_data/train_data/himgri/12265055185_138e3c7c70_o.jpg  \n",
            "  inflating: train_data/train_data/himgri/12265498144_d2e80faa3b_o.jpg  \n",
            "  inflating: train_data/train_data/himgri/12265561764_4814951031_o.jpg  \n",
            "  inflating: train_data/train_data/himgri/12265582724_61cb64e73a_o.jpg  \n",
            "  inflating: train_data/train_data/himgri/12265738206_2b9b25cc8a_o.jpg  \n",
            "  inflating: train_data/train_data/himgri/12265747116_d4b4fa3741_o.jpg  \n",
            "  inflating: train_data/train_data/himgri/12266053036_fcab92d8e8_o.jpg  \n",
            "  inflating: train_data/train_data/himgri/12266077576_1d7143aaf7_o.jpg  \n",
            "  inflating: train_data/train_data/himgri/12266086526_82cd337667_o.jpg  \n",
            "  inflating: train_data/train_data/himgri/IMG_5463.JPG  \n",
            "  inflating: train_data/train_data/hsparo/100_4757.JPG  \n",
            "  inflating: train_data/train_data/hsparo/100_4758.JPG  \n",
            "  inflating: train_data/train_data/hsparo/100_5039.JPG  \n",
            "  inflating: train_data/train_data/hsparo/100_5040.JPG  \n",
            "  inflating: train_data/train_data/hsparo/100_5041.JPG  \n",
            "  inflating: train_data/train_data/hsparo/100_5048.JPG  \n",
            "  inflating: train_data/train_data/hsparo/100_5049.JPG  \n",
            "  inflating: train_data/train_data/hsparo/100_5050.JPG  \n",
            "  inflating: train_data/train_data/hsparo/100_5572.JPG  \n",
            "  inflating: train_data/train_data/indvul/DSC_0502.jpg  \n",
            "  inflating: train_data/train_data/indvul/DSC_0571e.jpg  \n",
            "  inflating: train_data/train_data/indvul/DSC_0572.jpg  \n",
            "  inflating: train_data/train_data/indvul/DSC_0576e.jpg  \n",
            "  inflating: train_data/train_data/indvul/DSC_0582.jpg  \n",
            "  inflating: train_data/train_data/indvul/DSC_0583e.jpg  \n",
            "  inflating: train_data/train_data/indvul/DSC_0584.jpg  \n",
            "  inflating: train_data/train_data/indvul/DSC_0616c.jpg  \n",
            "  inflating: train_data/train_data/indvul/DSC_0617.jpg  \n",
            "  inflating: train_data/train_data/jglowl/12152151476_7a1524aabb_o.jpg  \n",
            "  inflating: train_data/train_data/jglowl/DSC01335.jpg  \n",
            "  inflating: train_data/train_data/jglowl/DSC01336.jpg  \n",
            "  inflating: train_data/train_data/jglowl/_D32_10285.jpg  \n",
            "  inflating: train_data/train_data/jglowl/_D32_10578.jpg  \n",
            "  inflating: train_data/train_data/jglowl/_D32_10583.jpg  \n",
            "  inflating: train_data/train_data/lbicrw/100_4037.JPG  \n",
            "  inflating: train_data/train_data/lbicrw/100_4912.JPG  \n",
            "  inflating: train_data/train_data/lbicrw/100_4913.JPG  \n",
            "  inflating: train_data/train_data/lbicrw/100_4914.JPG  \n",
            "  inflating: train_data/train_data/lbicrw/100_4915.JPG  \n",
            "  inflating: train_data/train_data/lbicrw/100_4916.JPG  \n",
            "  inflating: train_data/train_data/mgprob/100_5587.JPG  \n",
            "  inflating: train_data/train_data/mgprob/100_5588.JPG  \n",
            "  inflating: train_data/train_data/mgprob/100_5589.JPG  \n",
            "  inflating: train_data/train_data/mgprob/100_5590.JPG  \n",
            "  inflating: train_data/train_data/mgprob/100_5592.JPG  \n",
            "  inflating: train_data/train_data/mgprob/100_5762.JPG  \n",
            "  inflating: train_data/train_data/rebimg/100_5744.JPG  \n",
            "  inflating: train_data/train_data/rebimg/100_5745.JPG  \n",
            "  inflating: train_data/train_data/rebimg/100_5746.JPG  \n",
            "  inflating: train_data/train_data/rebimg/100_5748.JPG  \n",
            "  inflating: train_data/train_data/rebimg/100_5749.JPG  \n",
            "  inflating: train_data/train_data/rebimg/100_5750.JPG  \n",
            "  inflating: train_data/train_data/rebimg/100_5751.JPG  \n",
            "  inflating: train_data/train_data/rebimg/100_5752.JPG  \n",
            "  inflating: train_data/train_data/rebimg/100_5754.JPG  \n",
            "  inflating: train_data/train_data/rebimg/100_5755.JPG  \n",
            "  inflating: train_data/train_data/wcrsrt/100_4452.JPG  \n",
            "  inflating: train_data/train_data/wcrsrt/100_4453.JPG  \n",
            "  inflating: train_data/train_data/wcrsrt/100_4454.JPG  \n",
            "  inflating: train_data/train_data/wcrsrt/100_4455.JPG  \n",
            "  inflating: train_data/train_data/wcrsrt/100_4456.JPG  \n",
            "  inflating: train_data/train_data/wcrsrt/100_4457.JPG  \n",
            "  inflating: train_data/train_data/wcrsrt/100_4458.JPG  \n",
            "  inflating: train_data/train_data/wcrsrt/100_4459.JPG  \n",
            "  inflating: train_data/train_data/wcrsrt/100_4460.JPG  \n",
            "  inflating: train_data/train_data/wcrsrt/100_4461.JPG  \n"
          ]
        }
      ]
    },
    {
      "cell_type": "markdown",
      "source": [
        "# **Building VGG16 model**"
      ],
      "metadata": {
        "id": "rkQi01VdM2uB"
      }
    },
    {
      "cell_type": "code",
      "source": [
        "from tensorflow.keras.layers import Dense, Flatten, Input\n",
        "from tensorflow.keras.models import Sequential, Model\n",
        "from tensorflow.keras.preprocessing import image\n",
        "from tensorflow.keras.preprocessing.image import ImageDataGenerator, load_img\n",
        "import numpy as np"
      ],
      "metadata": {
        "id": "IJJFgzg8M2Wl"
      },
      "execution_count": null,
      "outputs": []
    },
    {
      "cell_type": "code",
      "source": [
        "train = '/content/train_data'\n",
        "test = '/content/test_data'"
      ],
      "metadata": {
        "id": "NQm8hFw6S7np"
      },
      "execution_count": null,
      "outputs": []
    },
    {
      "cell_type": "code",
      "source": [
        "train_gen = ImageDataGenerator(rescale=(1./255), shear_range=0.2, horizontal_flip=True, vertical_flip=True)\n",
        "test_gen = ImageDataGenerator(rescale=(1./255))"
      ],
      "metadata": {
        "id": "Zr9SXKRNMwCB"
      },
      "execution_count": null,
      "outputs": []
    },
    {
      "cell_type": "code",
      "source": [
        "train = train_gen.flow_from_directory(train, batch_size=5, class_mode='categorical', target_size=(224, 224))\n",
        "test = test_gen.flow_from_directory(test, batch_size=5, class_mode='categorical', target_size=(224, 224))"
      ],
      "metadata": {
        "colab": {
          "base_uri": "https://localhost:8080/"
        },
        "id": "OkFIs6pbUCAz",
        "outputId": "054a818a-fd8f-4017-e0f9-aeec991b6471"
      },
      "execution_count": null,
      "outputs": [
        {
          "output_type": "stream",
          "name": "stdout",
          "text": [
            "Found 150 images belonging to 1 classes.\n",
            "Found 157 images belonging to 1 classes.\n"
          ]
        }
      ]
    },
    {
      "cell_type": "code",
      "source": [
        "from tensorflow.keras.applications.vgg16 import VGG16, preprocess_input"
      ],
      "metadata": {
        "id": "X_JpgrnUQ2qc"
      },
      "execution_count": null,
      "outputs": []
    },
    {
      "cell_type": "code",
      "source": [
        "# Add preprocessed layers to the vgg\n",
        "vgg = VGG16(include_top=False, input_shape=(224, 224, 3), weights='imagenet')"
      ],
      "metadata": {
        "colab": {
          "base_uri": "https://localhost:8080/"
        },
        "id": "BwlOt6rQRBot",
        "outputId": "d640a448-88c1-4645-e67e-fb21d7f7b69a"
      },
      "execution_count": null,
      "outputs": [
        {
          "output_type": "stream",
          "name": "stdout",
          "text": [
            "Downloading data from https://storage.googleapis.com/tensorflow/keras-applications/vgg16/vgg16_weights_tf_dim_ordering_tf_kernels_notop.h5\n",
            "58889256/58889256 [==============================] - 3s 0us/step\n"
          ]
        }
      ]
    },
    {
      "cell_type": "code",
      "source": [
        "# Train the model with existing weights\n",
        "for layers in vgg.layers:\n",
        "  layers.trainable=False"
      ],
      "metadata": {
        "id": "6Z-DxiZCvMt2"
      },
      "execution_count": null,
      "outputs": []
    },
    {
      "cell_type": "code",
      "source": [
        "x = Flatten()(vgg.output) # Flatten the output from the VGG16"
      ],
      "metadata": {
        "id": "0lRl7p8KxjSr"
      },
      "execution_count": null,
      "outputs": []
    },
    {
      "cell_type": "code",
      "source": [
        "# Output layer\n",
        "prediction = Dense(4, activation='Softmax')(x)"
      ],
      "metadata": {
        "id": "56ikhIZex-BT"
      },
      "execution_count": null,
      "outputs": []
    },
    {
      "cell_type": "code",
      "source": [
        "# Create VGG16 model\n",
        "model= Model(inputs=vgg.input, outputs=prediction)"
      ],
      "metadata": {
        "id": "BE-spPqNyO7_"
      },
      "execution_count": null,
      "outputs": []
    },
    {
      "cell_type": "code",
      "source": [
        "model.compile(optimizer='adam', loss='categorical_crossentropy', metrics=['accuracy'])"
      ],
      "metadata": {
        "id": "4GdRbYqBVh9t"
      },
      "execution_count": null,
      "outputs": []
    },
    {
      "cell_type": "code",
      "source": [
        "model.summary()"
      ],
      "metadata": {
        "colab": {
          "base_uri": "https://localhost:8080/"
        },
        "id": "K0cRMhU8VEU_",
        "outputId": "1a12910e-2ea0-42da-866f-f48bbbcdb9df"
      },
      "execution_count": null,
      "outputs": [
        {
          "output_type": "stream",
          "name": "stdout",
          "text": [
            "Model: \"model_2\"\n",
            "_________________________________________________________________\n",
            " Layer (type)                Output Shape              Param #   \n",
            "=================================================================\n",
            " input_1 (InputLayer)        [(None, 224, 224, 3)]     0         \n",
            "                                                                 \n",
            " block1_conv1 (Conv2D)       (None, 224, 224, 64)      1792      \n",
            "                                                                 \n",
            " block1_conv2 (Conv2D)       (None, 224, 224, 64)      36928     \n",
            "                                                                 \n",
            " block1_pool (MaxPooling2D)  (None, 112, 112, 64)      0         \n",
            "                                                                 \n",
            " block2_conv1 (Conv2D)       (None, 112, 112, 128)     73856     \n",
            "                                                                 \n",
            " block2_conv2 (Conv2D)       (None, 112, 112, 128)     147584    \n",
            "                                                                 \n",
            " block2_pool (MaxPooling2D)  (None, 56, 56, 128)       0         \n",
            "                                                                 \n",
            " block3_conv1 (Conv2D)       (None, 56, 56, 256)       295168    \n",
            "                                                                 \n",
            " block3_conv2 (Conv2D)       (None, 56, 56, 256)       590080    \n",
            "                                                                 \n",
            " block3_conv3 (Conv2D)       (None, 56, 56, 256)       590080    \n",
            "                                                                 \n",
            " block3_pool (MaxPooling2D)  (None, 28, 28, 256)       0         \n",
            "                                                                 \n",
            " block4_conv1 (Conv2D)       (None, 28, 28, 512)       1180160   \n",
            "                                                                 \n",
            " block4_conv2 (Conv2D)       (None, 28, 28, 512)       2359808   \n",
            "                                                                 \n",
            " block4_conv3 (Conv2D)       (None, 28, 28, 512)       2359808   \n",
            "                                                                 \n",
            " block4_pool (MaxPooling2D)  (None, 14, 14, 512)       0         \n",
            "                                                                 \n",
            " block5_conv1 (Conv2D)       (None, 14, 14, 512)       2359808   \n",
            "                                                                 \n",
            " block5_conv2 (Conv2D)       (None, 14, 14, 512)       2359808   \n",
            "                                                                 \n",
            " block5_conv3 (Conv2D)       (None, 14, 14, 512)       2359808   \n",
            "                                                                 \n",
            " block5_pool (MaxPooling2D)  (None, 7, 7, 512)         0         \n",
            "                                                                 \n",
            " flatten (Flatten)           (None, 25088)             0         \n",
            "                                                                 \n",
            " dense (Dense)               (None, 4)                 100356    \n",
            "                                                                 \n",
            "=================================================================\n",
            "Total params: 14,815,044\n",
            "Trainable params: 100,356\n",
            "Non-trainable params: 14,714,688\n",
            "_________________________________________________________________\n"
          ]
        }
      ]
    },
    {
      "cell_type": "code",
      "source": [
        "model.fit(train, epochs=50, steps_per_epoch=len(train), validation_steps=len(test))"
      ],
      "metadata": {
        "colab": {
          "base_uri": "https://localhost:8080/"
        },
        "id": "CoXQqNe-Va8p",
        "outputId": "e1c28ff6-df71-474e-f4d8-3fb634c088ea"
      },
      "execution_count": null,
      "outputs": [
        {
          "output_type": "stream",
          "name": "stdout",
          "text": [
            "Epoch 1/50\n",
            "30/30 [==============================] - 122s 4s/step - loss: 6.2440 - accuracy: 0.0333\n",
            "Epoch 2/50\n",
            "30/30 [==============================] - 120s 4s/step - loss: 6.2745 - accuracy: 0.0600\n",
            "Epoch 3/50\n",
            "30/30 [==============================] - 123s 4s/step - loss: 6.2354 - accuracy: 0.1333\n",
            "Epoch 4/50\n",
            "30/30 [==============================] - 117s 4s/step - loss: 6.3033 - accuracy: 0.0733\n",
            "Epoch 5/50\n",
            "30/30 [==============================] - 119s 4s/step - loss: 6.3217 - accuracy: 0.1067\n",
            "Epoch 6/50\n",
            "30/30 [==============================] - 121s 4s/step - loss: 6.2644 - accuracy: 0.1067\n",
            "Epoch 7/50\n",
            "30/30 [==============================] - 120s 4s/step - loss: 6.2801 - accuracy: 0.1267\n",
            "Epoch 8/50\n",
            "30/30 [==============================] - 118s 4s/step - loss: 6.3345 - accuracy: 0.0800\n",
            "Epoch 9/50\n",
            "30/30 [==============================] - 120s 4s/step - loss: 6.3936 - accuracy: 0.1867\n",
            "Epoch 10/50\n",
            "30/30 [==============================] - 115s 4s/step - loss: 6.3988 - accuracy: 0.1200\n",
            "Epoch 11/50\n",
            "30/30 [==============================] - 121s 4s/step - loss: 6.3807 - accuracy: 0.1467\n",
            "Epoch 12/50\n",
            "30/30 [==============================] - 117s 4s/step - loss: 6.4230 - accuracy: 0.1267\n",
            "Epoch 13/50\n",
            "30/30 [==============================] - 119s 4s/step - loss: 6.3456 - accuracy: 0.1467\n",
            "Epoch 14/50\n",
            "30/30 [==============================] - 117s 4s/step - loss: 6.3872 - accuracy: 0.1267\n",
            "Epoch 15/50\n",
            "30/30 [==============================] - 123s 4s/step - loss: 6.4281 - accuracy: 0.1533\n",
            "Epoch 16/50\n",
            "30/30 [==============================] - 117s 4s/step - loss: 6.5773 - accuracy: 0.2000\n",
            "Epoch 17/50\n",
            "30/30 [==============================] - 119s 4s/step - loss: 6.4051 - accuracy: 0.1467\n",
            "Epoch 18/50\n",
            "30/30 [==============================] - 118s 4s/step - loss: 6.6111 - accuracy: 0.1333\n",
            "Epoch 19/50\n",
            "30/30 [==============================] - 120s 4s/step - loss: 6.5599 - accuracy: 0.1800\n",
            "Epoch 20/50\n",
            "30/30 [==============================] - 120s 4s/step - loss: 6.5739 - accuracy: 0.1533\n",
            "Epoch 21/50\n",
            "30/30 [==============================] - 119s 4s/step - loss: 6.4225 - accuracy: 0.1600\n",
            "Epoch 22/50\n",
            "30/30 [==============================] - 116s 4s/step - loss: 6.5769 - accuracy: 0.1533\n",
            "Epoch 23/50\n",
            "30/30 [==============================] - 119s 4s/step - loss: 6.5212 - accuracy: 0.1200\n",
            "Epoch 24/50\n",
            "30/30 [==============================] - 117s 4s/step - loss: 6.6324 - accuracy: 0.1333\n",
            "Epoch 25/50\n",
            "30/30 [==============================] - 120s 4s/step - loss: 6.7268 - accuracy: 0.2133\n",
            "Epoch 26/50\n",
            "30/30 [==============================] - 117s 4s/step - loss: 6.5627 - accuracy: 0.2067\n",
            "Epoch 27/50\n",
            "30/30 [==============================] - 119s 4s/step - loss: 6.5438 - accuracy: 0.1733\n",
            "Epoch 28/50\n",
            "30/30 [==============================] - 116s 4s/step - loss: 6.5526 - accuracy: 0.1667\n",
            "Epoch 29/50\n",
            "30/30 [==============================] - 118s 4s/step - loss: 6.5072 - accuracy: 0.1467\n",
            "Epoch 30/50\n",
            "30/30 [==============================] - 117s 4s/step - loss: 6.6114 - accuracy: 0.2000\n",
            "Epoch 31/50\n",
            "30/30 [==============================] - 117s 4s/step - loss: 6.5525 - accuracy: 0.1800\n",
            "Epoch 32/50\n",
            "30/30 [==============================] - 120s 4s/step - loss: 6.7476 - accuracy: 0.2200\n",
            "Epoch 33/50\n",
            "30/30 [==============================] - 117s 4s/step - loss: 6.5615 - accuracy: 0.1733\n",
            "Epoch 34/50\n",
            "30/30 [==============================] - 119s 4s/step - loss: 6.7584 - accuracy: 0.2133\n",
            "Epoch 35/50\n",
            "30/30 [==============================] - 116s 4s/step - loss: 6.8974 - accuracy: 0.1867\n",
            "Epoch 36/50\n",
            "30/30 [==============================] - 118s 4s/step - loss: 6.7180 - accuracy: 0.2200\n",
            "Epoch 37/50\n",
            "30/30 [==============================] - 117s 4s/step - loss: 6.7068 - accuracy: 0.2133\n",
            "Epoch 38/50\n",
            "30/30 [==============================] - 119s 4s/step - loss: 6.6643 - accuracy: 0.1667\n",
            "Epoch 39/50\n",
            "30/30 [==============================] - 117s 4s/step - loss: 6.8211 - accuracy: 0.2200\n",
            "Epoch 40/50\n",
            "30/30 [==============================] - 120s 4s/step - loss: 6.7388 - accuracy: 0.1800\n",
            "Epoch 41/50\n",
            "30/30 [==============================] - 117s 4s/step - loss: 7.0465 - accuracy: 0.2200\n",
            "Epoch 42/50\n",
            "30/30 [==============================] - 117s 4s/step - loss: 6.8543 - accuracy: 0.2600\n",
            "Epoch 43/50\n",
            "30/30 [==============================] - 119s 4s/step - loss: 6.7766 - accuracy: 0.2133\n",
            "Epoch 44/50\n",
            "30/30 [==============================] - 116s 4s/step - loss: 6.7725 - accuracy: 0.1667\n",
            "Epoch 45/50\n",
            "30/30 [==============================] - 118s 4s/step - loss: 7.2315 - accuracy: 0.1667\n",
            "Epoch 46/50\n",
            "30/30 [==============================] - 117s 4s/step - loss: 6.8088 - accuracy: 0.2200\n",
            "Epoch 47/50\n",
            "30/30 [==============================] - 119s 4s/step - loss: 6.8566 - accuracy: 0.2467\n",
            "Epoch 48/50\n",
            "30/30 [==============================] - 117s 4s/step - loss: 7.2207 - accuracy: 0.2133\n",
            "Epoch 49/50\n",
            "30/30 [==============================] - 117s 4s/step - loss: 7.1554 - accuracy: 0.2533\n",
            "Epoch 50/50\n",
            "30/30 [==============================] - 120s 4s/step - loss: 6.7415 - accuracy: 0.2133\n"
          ]
        },
        {
          "output_type": "execute_result",
          "data": {
            "text/plain": [
              "<keras.callbacks.History at 0x7fcb471e1ab0>"
            ]
          },
          "metadata": {},
          "execution_count": 31
        }
      ]
    },
    {
      "cell_type": "markdown",
      "source": [
        "# **Building ResNet50 model**\n"
      ],
      "metadata": {
        "id": "cuF_5uogjft0"
      }
    },
    {
      "cell_type": "code",
      "source": [
        "from tensorflow.keras.applications import ResNet50"
      ],
      "metadata": {
        "id": "hf_LgNaLjtp_"
      },
      "execution_count": null,
      "outputs": []
    },
    {
      "cell_type": "code",
      "source": [
        "resnet = ResNet50(include_top=False, weights='imagenet', input_shape=(224, 224, 3))"
      ],
      "metadata": {
        "id": "Cyd6WAxpWgDG"
      },
      "execution_count": null,
      "outputs": []
    },
    {
      "cell_type": "code",
      "source": [
        "for layer in resnet.layers:\n",
        "  layer.trainable=False"
      ],
      "metadata": {
        "id": "jkr44-DnWiTi"
      },
      "execution_count": null,
      "outputs": []
    },
    {
      "cell_type": "code",
      "source": [
        "x=Flatten()(resnet.output)"
      ],
      "metadata": {
        "id": "GlLsQqXUWlQU"
      },
      "execution_count": null,
      "outputs": []
    },
    {
      "cell_type": "code",
      "source": [
        "out = Dense(4, activation='softmax')(x)"
      ],
      "metadata": {
        "id": "yfyFy8XkWsgS"
      },
      "execution_count": null,
      "outputs": []
    },
    {
      "cell_type": "code",
      "source": [
        "resnet_model = Model(inputs=resnet.input,outputs=out)"
      ],
      "metadata": {
        "id": "LzAiT2zDWu7F"
      },
      "execution_count": null,
      "outputs": []
    },
    {
      "cell_type": "code",
      "source": [
        "resnet_model.summary()"
      ],
      "metadata": {
        "id": "oFgR0AoKWyBo"
      },
      "execution_count": null,
      "outputs": []
    },
    {
      "cell_type": "code",
      "source": [
        "resnet_model.compile(loss='categorical_crossentropy',optimizer='adam',metrics=['accuracy'])"
      ],
      "metadata": {
        "id": "3Qt2-lFyk0nr"
      },
      "execution_count": null,
      "outputs": []
    },
    {
      "cell_type": "code",
      "source": [
        "resnet_model.fit(train,epochs=50,validation_data=test,steps_per_epoch=len(train),validation_steps=len(test))"
      ],
      "metadata": {
        "colab": {
          "base_uri": "https://localhost:8080/"
        },
        "id": "hebF_ZgAlH9S",
        "outputId": "667884a8-3049-4a29-b135-8149ff4ffb84"
      },
      "execution_count": null,
      "outputs": [
        {
          "output_type": "stream",
          "name": "stdout",
          "text": [
            "Epoch 1/50\n",
            "30/30 [==============================] - 208s 7s/step - loss: 6.1967 - accuracy: 0.9867 - val_loss: 6.2265 - val_accuracy: 0.9108\n",
            "Epoch 2/50\n",
            "30/30 [==============================] - 151s 5s/step - loss: 6.2048 - accuracy: 0.9267 - val_loss: 6.0586 - val_accuracy: 0.3885\n",
            "Epoch 3/50\n",
            "30/30 [==============================] - 147s 5s/step - loss: 6.2096 - accuracy: 0.8867 - val_loss: 6.3614 - val_accuracy: 0.8917\n",
            "Epoch 4/50\n",
            "30/30 [==============================] - 144s 5s/step - loss: 6.2475 - accuracy: 0.7733 - val_loss: 6.2539 - val_accuracy: 0.9873\n",
            "Epoch 5/50\n",
            "30/30 [==============================] - 146s 5s/step - loss: 6.2355 - accuracy: 0.7933 - val_loss: 6.2515 - val_accuracy: 0.9108\n",
            "Epoch 6/50\n",
            "30/30 [==============================] - 208s 7s/step - loss: 6.2317 - accuracy: 0.8800 - val_loss: 6.1777 - val_accuracy: 0.8471\n",
            "Epoch 7/50\n",
            "30/30 [==============================] - 145s 5s/step - loss: 6.3063 - accuracy: 0.8000 - val_loss: 6.1114 - val_accuracy: 0.0828\n",
            "Epoch 8/50\n",
            "30/30 [==============================] - 147s 5s/step - loss: 6.2442 - accuracy: 0.7600 - val_loss: 6.2073 - val_accuracy: 0.4904\n",
            "Epoch 9/50\n",
            "30/30 [==============================] - 147s 5s/step - loss: 6.2326 - accuracy: 0.8067 - val_loss: 6.2212 - val_accuracy: 0.8917\n",
            "Epoch 10/50\n",
            "30/30 [==============================] - 142s 5s/step - loss: 6.3045 - accuracy: 0.8467 - val_loss: 6.4010 - val_accuracy: 0.9236\n",
            "Epoch 11/50\n",
            "30/30 [==============================] - 147s 5s/step - loss: 6.2955 - accuracy: 0.6933 - val_loss: 6.3201 - val_accuracy: 0.9490\n",
            "Epoch 12/50\n",
            "30/30 [==============================] - 146s 5s/step - loss: 6.3116 - accuracy: 0.6933 - val_loss: 6.4030 - val_accuracy: 0.9936\n",
            "Epoch 13/50\n",
            "30/30 [==============================] - 144s 5s/step - loss: 6.3987 - accuracy: 0.7733 - val_loss: 6.1434 - val_accuracy: 0.1529\n",
            "Epoch 14/50\n",
            "30/30 [==============================] - 145s 5s/step - loss: 6.3071 - accuracy: 0.7200 - val_loss: 6.4167 - val_accuracy: 0.9554\n",
            "Epoch 15/50\n",
            "30/30 [==============================] - 145s 5s/step - loss: 6.3376 - accuracy: 0.8067 - val_loss: 6.4367 - val_accuracy: 0.5287\n",
            "Epoch 16/50\n",
            "30/30 [==============================] - 145s 5s/step - loss: 6.3887 - accuracy: 0.7667 - val_loss: 6.1787 - val_accuracy: 0.3758\n",
            "Epoch 17/50\n",
            "30/30 [==============================] - 140s 5s/step - loss: 6.4302 - accuracy: 0.6000 - val_loss: 6.9919 - val_accuracy: 1.0000\n",
            "Epoch 18/50\n",
            "30/30 [==============================] - 142s 5s/step - loss: 6.4502 - accuracy: 0.6400 - val_loss: 6.1038 - val_accuracy: 0.1720\n",
            "Epoch 19/50\n",
            "30/30 [==============================] - 147s 5s/step - loss: 6.2836 - accuracy: 0.6733 - val_loss: 6.1098 - val_accuracy: 0.3885\n",
            "Epoch 20/50\n",
            "30/30 [==============================] - 143s 5s/step - loss: 6.3083 - accuracy: 0.7133 - val_loss: 6.4440 - val_accuracy: 0.8599\n",
            "Epoch 21/50\n",
            "30/30 [==============================] - 144s 5s/step - loss: 6.4107 - accuracy: 0.7000 - val_loss: 6.0879 - val_accuracy: 0.1656\n",
            "Epoch 22/50\n",
            "30/30 [==============================] - 145s 5s/step - loss: 6.4235 - accuracy: 0.6933 - val_loss: 6.3402 - val_accuracy: 0.9554\n",
            "Epoch 23/50\n",
            "30/30 [==============================] - 145s 5s/step - loss: 6.3674 - accuracy: 0.6867 - val_loss: 6.3706 - val_accuracy: 0.4904\n",
            "Epoch 24/50\n",
            "30/30 [==============================] - 146s 5s/step - loss: 6.4120 - accuracy: 0.6733 - val_loss: 6.4745 - val_accuracy: 0.9299\n",
            "Epoch 25/50\n",
            "30/30 [==============================] - 145s 5s/step - loss: 6.3513 - accuracy: 0.7000 - val_loss: 6.1957 - val_accuracy: 0.9427\n",
            "Epoch 26/50\n",
            "30/30 [==============================] - 143s 5s/step - loss: 6.3772 - accuracy: 0.6867 - val_loss: 6.4451 - val_accuracy: 0.8599\n",
            "Epoch 27/50\n",
            "30/30 [==============================] - 141s 5s/step - loss: 6.3668 - accuracy: 0.7067 - val_loss: 6.7677 - val_accuracy: 0.9299\n",
            "Epoch 28/50\n",
            "30/30 [==============================] - 143s 5s/step - loss: 6.3778 - accuracy: 0.6867 - val_loss: 6.5192 - val_accuracy: 0.8471\n",
            "Epoch 29/50\n",
            "30/30 [==============================] - 140s 5s/step - loss: 6.3133 - accuracy: 0.7867 - val_loss: 6.4984 - val_accuracy: 0.9554\n",
            "Epoch 30/50\n",
            "30/30 [==============================] - 149s 5s/step - loss: 6.4600 - accuracy: 0.6600 - val_loss: 6.2089 - val_accuracy: 0.6306\n",
            "Epoch 31/50\n",
            "30/30 [==============================] - 145s 5s/step - loss: 6.4650 - accuracy: 0.6467 - val_loss: 6.4109 - val_accuracy: 0.9490\n",
            "Epoch 32/50\n",
            "30/30 [==============================] - 147s 5s/step - loss: 6.4471 - accuracy: 0.5667 - val_loss: 7.4205 - val_accuracy: 0.9745\n",
            "Epoch 33/50\n",
            "30/30 [==============================] - 141s 5s/step - loss: 6.6290 - accuracy: 0.5800 - val_loss: 6.3596 - val_accuracy: 0.9045\n",
            "Epoch 34/50\n",
            "30/30 [==============================] - 147s 5s/step - loss: 6.5216 - accuracy: 0.6733 - val_loss: 6.1993 - val_accuracy: 0.1210\n",
            "Epoch 35/50\n",
            "30/30 [==============================] - 145s 5s/step - loss: 6.4217 - accuracy: 0.7733 - val_loss: 6.1897 - val_accuracy: 0.2102\n",
            "Epoch 36/50\n",
            "30/30 [==============================] - 145s 5s/step - loss: 6.4458 - accuracy: 0.6200 - val_loss: 6.3416 - val_accuracy: 0.9363\n",
            "Epoch 37/50\n",
            "30/30 [==============================] - 145s 5s/step - loss: 6.3601 - accuracy: 0.6867 - val_loss: 6.3419 - val_accuracy: 0.5350\n",
            "Epoch 38/50\n",
            "30/30 [==============================] - 147s 5s/step - loss: 6.4359 - accuracy: 0.6467 - val_loss: 6.1047 - val_accuracy: 0.9236\n",
            "Epoch 39/50\n",
            "30/30 [==============================] - 144s 5s/step - loss: 6.5560 - accuracy: 0.5800 - val_loss: 6.9390 - val_accuracy: 0.9299\n",
            "Epoch 40/50\n",
            "30/30 [==============================] - 145s 5s/step - loss: 6.4368 - accuracy: 0.6400 - val_loss: 6.6247 - val_accuracy: 0.9172\n",
            "Epoch 41/50\n",
            "30/30 [==============================] - 146s 5s/step - loss: 6.3740 - accuracy: 0.6267 - val_loss: 6.4685 - val_accuracy: 0.5032\n",
            "Epoch 42/50\n",
            "30/30 [==============================] - 145s 5s/step - loss: 6.4636 - accuracy: 0.6600 - val_loss: 6.6182 - val_accuracy: 0.4777\n",
            "Epoch 43/50\n",
            "30/30 [==============================] - 147s 5s/step - loss: 6.5373 - accuracy: 0.6467 - val_loss: 7.0661 - val_accuracy: 0.9236\n",
            "Epoch 44/50\n",
            "30/30 [==============================] - 147s 5s/step - loss: 6.5356 - accuracy: 0.7067 - val_loss: 6.6482 - val_accuracy: 0.9045\n",
            "Epoch 45/50\n",
            "30/30 [==============================] - 146s 5s/step - loss: 6.4180 - accuracy: 0.6600 - val_loss: 6.5391 - val_accuracy: 0.8981\n",
            "Epoch 46/50\n",
            "30/30 [==============================] - 145s 5s/step - loss: 6.7283 - accuracy: 0.5800 - val_loss: 6.9095 - val_accuracy: 0.9618\n",
            "Epoch 47/50\n",
            "30/30 [==============================] - 142s 5s/step - loss: 6.6607 - accuracy: 0.6333 - val_loss: 6.0902 - val_accuracy: 0.1592\n",
            "Epoch 48/50\n",
            "30/30 [==============================] - 146s 5s/step - loss: 6.4313 - accuracy: 0.6533 - val_loss: 6.2477 - val_accuracy: 0.6497\n",
            "Epoch 49/50\n",
            "30/30 [==============================] - 143s 5s/step - loss: 6.6204 - accuracy: 0.6267 - val_loss: 6.8044 - val_accuracy: 0.4522\n",
            "Epoch 50/50\n",
            "30/30 [==============================] - 141s 5s/step - loss: 6.7492 - accuracy: 0.6400 - val_loss: 6.4972 - val_accuracy: 0.5860\n"
          ]
        },
        {
          "output_type": "execute_result",
          "data": {
            "text/plain": [
              "<keras.callbacks.History at 0x7fcb32176c20>"
            ]
          },
          "metadata": {},
          "execution_count": 48
        }
      ]
    }
  ]
}